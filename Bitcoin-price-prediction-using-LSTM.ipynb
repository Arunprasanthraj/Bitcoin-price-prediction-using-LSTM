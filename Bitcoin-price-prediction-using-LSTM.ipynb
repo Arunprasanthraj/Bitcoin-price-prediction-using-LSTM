{
 "cells": [
  {
   "cell_type": "markdown",
   "id": "d7644339",
   "metadata": {},
   "source": [
    "# Capstone project 2\n",
    "\n",
    "# We are going to predect the price of Bitcoin using LSTM method"
   ]
  },
  {
   "cell_type": "markdown",
   "id": "34a4dd0a",
   "metadata": {},
   "source": [
    "Lets import necessary libary"
   ]
  },
  {
   "cell_type": "code",
   "execution_count": null,
   "id": "76838bd2",
   "metadata": {},
   "outputs": [],
   "source": [
    "import requests\n",
    "import pandas as pd\n",
    "import numpy as np\n",
    "import matplotlib.pyplot as plt\n",
    "\n",
    "from sklearn.preprocessing import MinMaxScaler\n",
    "from tensorflow.keras.layers import Dense,Dropout,LSTM\n",
    "from tensorflow.keras.models import Sequential"
   ]
  },
  {
   "cell_type": "markdown",
   "id": "ee5660ef",
   "metadata": {},
   "source": [
    "let's load our present data for prediction ( The data has been taken from the Web side 'WWW.twelvedata.com')"
   ]
  },
  {
   "cell_type": "code",
   "execution_count": 2,
   "id": "54fdd4bb",
   "metadata": {},
   "outputs": [],
   "source": [
    "api_key='3aa545146899454d82aa265635a8a193'\n",
    "symbel='UTC/USD'\n",
    "interval = '5min'\n",
    "order = 'asc'\n",
    "start_date='2023-02-01 00:00:00'\n",
    "end_date='2023-03-01 00:00:00'\n",
    "api_url=f'https://api.twelvedata.com/time_series?symbol={symbel}&start_data={start_date}&end_date={end_date}&interval={interval}&order={order}&apikey={api_key}'"
   ]
  },
  {
   "cell_type": "code",
   "execution_count": 3,
   "id": "41f17f4a",
   "metadata": {},
   "outputs": [
    {
     "data": {
      "text/html": [
       "<div>\n",
       "<style scoped>\n",
       "    .dataframe tbody tr th:only-of-type {\n",
       "        vertical-align: middle;\n",
       "    }\n",
       "\n",
       "    .dataframe tbody tr th {\n",
       "        vertical-align: top;\n",
       "    }\n",
       "\n",
       "    .dataframe thead th {\n",
       "        text-align: right;\n",
       "    }\n",
       "</style>\n",
       "<table border=\"1\" class=\"dataframe\">\n",
       "  <thead>\n",
       "    <tr style=\"text-align: right;\">\n",
       "      <th></th>\n",
       "      <th>datetime</th>\n",
       "      <th>open</th>\n",
       "      <th>high</th>\n",
       "      <th>low</th>\n",
       "      <th>close</th>\n",
       "    </tr>\n",
       "  </thead>\n",
       "  <tbody>\n",
       "    <tr>\n",
       "      <th>0</th>\n",
       "      <td>2023-02-11 13:40:00</td>\n",
       "      <td>0.00870</td>\n",
       "      <td>0.00870</td>\n",
       "      <td>0.00870</td>\n",
       "      <td>0.00870</td>\n",
       "    </tr>\n",
       "    <tr>\n",
       "      <th>1</th>\n",
       "      <td>2023-02-11 13:45:00</td>\n",
       "      <td>0.00870</td>\n",
       "      <td>0.00871</td>\n",
       "      <td>0.00870</td>\n",
       "      <td>0.00870</td>\n",
       "    </tr>\n",
       "    <tr>\n",
       "      <th>2</th>\n",
       "      <td>2023-02-11 13:50:00</td>\n",
       "      <td>0.00870</td>\n",
       "      <td>0.00870</td>\n",
       "      <td>0.00870</td>\n",
       "      <td>0.00870</td>\n",
       "    </tr>\n",
       "    <tr>\n",
       "      <th>3</th>\n",
       "      <td>2023-02-11 13:55:00</td>\n",
       "      <td>0.00870</td>\n",
       "      <td>0.00870</td>\n",
       "      <td>0.00870</td>\n",
       "      <td>0.00870</td>\n",
       "    </tr>\n",
       "    <tr>\n",
       "      <th>4</th>\n",
       "      <td>2023-02-11 14:00:00</td>\n",
       "      <td>0.00870</td>\n",
       "      <td>0.00870</td>\n",
       "      <td>0.00870</td>\n",
       "      <td>0.00870</td>\n",
       "    </tr>\n",
       "    <tr>\n",
       "      <th>...</th>\n",
       "      <td>...</td>\n",
       "      <td>...</td>\n",
       "      <td>...</td>\n",
       "      <td>...</td>\n",
       "      <td>...</td>\n",
       "    </tr>\n",
       "    <tr>\n",
       "      <th>4995</th>\n",
       "      <td>2023-02-28 23:40:00</td>\n",
       "      <td>0.00926</td>\n",
       "      <td>0.00926</td>\n",
       "      <td>0.00925</td>\n",
       "      <td>0.00925</td>\n",
       "    </tr>\n",
       "    <tr>\n",
       "      <th>4996</th>\n",
       "      <td>2023-02-28 23:45:00</td>\n",
       "      <td>0.00925</td>\n",
       "      <td>0.00926</td>\n",
       "      <td>0.00925</td>\n",
       "      <td>0.00925</td>\n",
       "    </tr>\n",
       "    <tr>\n",
       "      <th>4997</th>\n",
       "      <td>2023-02-28 23:50:00</td>\n",
       "      <td>0.00925</td>\n",
       "      <td>0.00926</td>\n",
       "      <td>0.00925</td>\n",
       "      <td>0.00926</td>\n",
       "    </tr>\n",
       "    <tr>\n",
       "      <th>4998</th>\n",
       "      <td>2023-02-28 23:55:00</td>\n",
       "      <td>0.00925</td>\n",
       "      <td>0.00925</td>\n",
       "      <td>0.00925</td>\n",
       "      <td>0.00925</td>\n",
       "    </tr>\n",
       "    <tr>\n",
       "      <th>4999</th>\n",
       "      <td>2023-03-01 00:00:00</td>\n",
       "      <td>0.00925</td>\n",
       "      <td>0.00926</td>\n",
       "      <td>0.00925</td>\n",
       "      <td>0.00926</td>\n",
       "    </tr>\n",
       "  </tbody>\n",
       "</table>\n",
       "<p>5000 rows × 5 columns</p>\n",
       "</div>"
      ],
      "text/plain": [
       "                 datetime     open     high      low    close\n",
       "0     2023-02-11 13:40:00  0.00870  0.00870  0.00870  0.00870\n",
       "1     2023-02-11 13:45:00  0.00870  0.00871  0.00870  0.00870\n",
       "2     2023-02-11 13:50:00  0.00870  0.00870  0.00870  0.00870\n",
       "3     2023-02-11 13:55:00  0.00870  0.00870  0.00870  0.00870\n",
       "4     2023-02-11 14:00:00  0.00870  0.00870  0.00870  0.00870\n",
       "...                   ...      ...      ...      ...      ...\n",
       "4995  2023-02-28 23:40:00  0.00926  0.00926  0.00925  0.00925\n",
       "4996  2023-02-28 23:45:00  0.00925  0.00926  0.00925  0.00925\n",
       "4997  2023-02-28 23:50:00  0.00925  0.00926  0.00925  0.00926\n",
       "4998  2023-02-28 23:55:00  0.00925  0.00925  0.00925  0.00925\n",
       "4999  2023-03-01 00:00:00  0.00925  0.00926  0.00925  0.00926\n",
       "\n",
       "[5000 rows x 5 columns]"
      ]
     },
     "execution_count": 3,
     "metadata": {},
     "output_type": "execute_result"
    }
   ],
   "source": [
    "data = requests.get(api_url).json()\n",
    "data_final=pd.DataFrame(data['values'])\n",
    "data_final"
   ]
  },
  {
   "cell_type": "code",
   "execution_count": 4,
   "id": "ea610967",
   "metadata": {},
   "outputs": [],
   "source": [
    "scaler= MinMaxScaler(feature_range=(0,1))\n",
    "scaled_data=scaler.fit_transform(data_final['close'].values.reshape(-1,1))"
   ]
  },
  {
   "cell_type": "code",
   "execution_count": 5,
   "id": "23ad2397",
   "metadata": {},
   "outputs": [],
   "source": [
    "time_intervals_to_train=24\n",
    "prediction_interval=12\n",
    "\n",
    "x_train=[]\n",
    "y_train=[]"
   ]
  },
  {
   "cell_type": "code",
   "execution_count": 6,
   "id": "1479630d",
   "metadata": {},
   "outputs": [],
   "source": [
    "for i in range(time_intervals_to_train, len(scaled_data) - prediction_interval):\n",
    "  x_train.append(scaled_data[i - time_intervals_to_train:i, 0])\n",
    "  y_train.append(scaled_data[i + prediction_interval, 0])\n",
    "\n",
    "x_train = np.array(x_train)\n",
    "y_train=np.array(y_train) "
   ]
  },
  {
   "cell_type": "code",
   "execution_count": 7,
   "id": "a3b6498e",
   "metadata": {},
   "outputs": [
    {
     "data": {
      "text/plain": [
       "(4964, 24)"
      ]
     },
     "execution_count": 7,
     "metadata": {},
     "output_type": "execute_result"
    }
   ],
   "source": [
    "x_train.shape"
   ]
  },
  {
   "cell_type": "code",
   "execution_count": 8,
   "id": "d4d38a42",
   "metadata": {},
   "outputs": [],
   "source": [
    "x_train=np.reshape(x_train,(x_train.shape[0],x_train.shape[1],1))"
   ]
  },
  {
   "cell_type": "code",
   "execution_count": 9,
   "id": "250c43d0",
   "metadata": {},
   "outputs": [
    {
     "data": {
      "text/plain": [
       "(4964, 24, 1)"
      ]
     },
     "execution_count": 9,
     "metadata": {},
     "output_type": "execute_result"
    }
   ],
   "source": [
    "x_train.shape"
   ]
  },
  {
   "cell_type": "markdown",
   "id": "1dbed3e6",
   "metadata": {},
   "source": [
    "Let's apply LSTM for the model"
   ]
  },
  {
   "cell_type": "code",
   "execution_count": 10,
   "id": "983f7898",
   "metadata": {},
   "outputs": [],
   "source": [
    "model = Sequential()\n",
    "\n",
    "\n",
    "model.add(LSTM(128,return_sequences=True,input_shape=(x_train.shape[1],1),activation='relu'))\n",
    "model.add(Dropout(0.4))\n",
    "model.add(LSTM(64,return_sequences=True,activation='relu'))\n",
    "model.add(Dropout(0.3))\n",
    "model.add(LSTM(32,activation='relu'))\n",
    "model.add(Dropout(0.2))\n",
    "model.add(Dense(1, activation='sigmoid'))"
   ]
  },
  {
   "cell_type": "code",
   "execution_count": 11,
   "id": "4b793bf6",
   "metadata": {},
   "outputs": [],
   "source": [
    "model.compile(loss='mean_squared_error',optimizer='adam',metrics=['accuracy'])"
   ]
  },
  {
   "cell_type": "code",
   "execution_count": 12,
   "id": "681a4f6f",
   "metadata": {},
   "outputs": [
    {
     "name": "stdout",
     "output_type": "stream",
     "text": [
      "Epoch 1/10\n",
      "78/78 [==============================] - 23s 165ms/step - loss: 0.0241 - accuracy: 8.0580e-04\n",
      "Epoch 2/10\n",
      "78/78 [==============================] - 13s 172ms/step - loss: 0.0034 - accuracy: 8.0580e-04\n",
      "Epoch 3/10\n",
      "78/78 [==============================] - 15s 190ms/step - loss: 0.0032 - accuracy: 8.0580e-04\n",
      "Epoch 4/10\n",
      "78/78 [==============================] - 18s 226ms/step - loss: 0.0030 - accuracy: 8.0580e-04\n",
      "Epoch 5/10\n",
      "78/78 [==============================] - 14s 185ms/step - loss: 0.0030 - accuracy: 8.0580e-04\n",
      "Epoch 6/10\n",
      "78/78 [==============================] - 16s 201ms/step - loss: 0.0028 - accuracy: 8.0580e-04\n",
      "Epoch 7/10\n",
      "78/78 [==============================] - 15s 192ms/step - loss: 0.0027 - accuracy: 8.0580e-04\n",
      "Epoch 8/10\n",
      "78/78 [==============================] - 14s 181ms/step - loss: 0.0027 - accuracy: 8.0580e-04\n",
      "Epoch 9/10\n",
      "78/78 [==============================] - 19s 244ms/step - loss: 0.0027 - accuracy: 8.0580e-04\n",
      "Epoch 10/10\n",
      "78/78 [==============================] - 16s 201ms/step - loss: 0.0025 - accuracy: 8.0580e-04\n"
     ]
    },
    {
     "data": {
      "text/plain": [
       "<keras.callbacks.History at 0x153987da400>"
      ]
     },
     "execution_count": 12,
     "metadata": {},
     "output_type": "execute_result"
    }
   ],
   "source": [
    "model.fit(x_train, y_train, epochs=10, batch_size=64)"
   ]
  },
  {
   "cell_type": "markdown",
   "id": "b9eae715",
   "metadata": {},
   "source": [
    "Lets test our model"
   ]
  },
  {
   "cell_type": "code",
   "execution_count": 13,
   "id": "f78e8161",
   "metadata": {},
   "outputs": [
    {
     "data": {
      "text/html": [
       "<div>\n",
       "<style scoped>\n",
       "    .dataframe tbody tr th:only-of-type {\n",
       "        vertical-align: middle;\n",
       "    }\n",
       "\n",
       "    .dataframe tbody tr th {\n",
       "        vertical-align: top;\n",
       "    }\n",
       "\n",
       "    .dataframe thead th {\n",
       "        text-align: right;\n",
       "    }\n",
       "</style>\n",
       "<table border=\"1\" class=\"dataframe\">\n",
       "  <thead>\n",
       "    <tr style=\"text-align: right;\">\n",
       "      <th></th>\n",
       "      <th>datetime</th>\n",
       "      <th>open</th>\n",
       "      <th>high</th>\n",
       "      <th>low</th>\n",
       "      <th>close</th>\n",
       "    </tr>\n",
       "  </thead>\n",
       "  <tbody>\n",
       "    <tr>\n",
       "      <th>0</th>\n",
       "      <td>2023-02-07 12:45:00</td>\n",
       "      <td>0.00920</td>\n",
       "      <td>0.00921</td>\n",
       "      <td>0.00920</td>\n",
       "      <td>0.00921</td>\n",
       "    </tr>\n",
       "    <tr>\n",
       "      <th>1</th>\n",
       "      <td>2023-02-07 12:50:00</td>\n",
       "      <td>0.00920</td>\n",
       "      <td>0.00920</td>\n",
       "      <td>0.00920</td>\n",
       "      <td>0.00920</td>\n",
       "    </tr>\n",
       "    <tr>\n",
       "      <th>2</th>\n",
       "      <td>2023-02-07 12:55:00</td>\n",
       "      <td>0.00921</td>\n",
       "      <td>0.00921</td>\n",
       "      <td>0.00921</td>\n",
       "      <td>0.00921</td>\n",
       "    </tr>\n",
       "    <tr>\n",
       "      <th>3</th>\n",
       "      <td>2023-02-07 13:00:00</td>\n",
       "      <td>0.00921</td>\n",
       "      <td>0.00921</td>\n",
       "      <td>0.00921</td>\n",
       "      <td>0.00921</td>\n",
       "    </tr>\n",
       "    <tr>\n",
       "      <th>4</th>\n",
       "      <td>2023-02-07 13:05:00</td>\n",
       "      <td>0.00921</td>\n",
       "      <td>0.00921</td>\n",
       "      <td>0.00920</td>\n",
       "      <td>0.00920</td>\n",
       "    </tr>\n",
       "    <tr>\n",
       "      <th>...</th>\n",
       "      <td>...</td>\n",
       "      <td>...</td>\n",
       "      <td>...</td>\n",
       "      <td>...</td>\n",
       "      <td>...</td>\n",
       "    </tr>\n",
       "    <tr>\n",
       "      <th>4995</th>\n",
       "      <td>2023-02-24 23:40:00</td>\n",
       "      <td>0.00927</td>\n",
       "      <td>0.00927</td>\n",
       "      <td>0.00927</td>\n",
       "      <td>0.00927</td>\n",
       "    </tr>\n",
       "    <tr>\n",
       "      <th>4996</th>\n",
       "      <td>2023-02-24 23:45:00</td>\n",
       "      <td>0.00926</td>\n",
       "      <td>0.00928</td>\n",
       "      <td>0.00926</td>\n",
       "      <td>0.00928</td>\n",
       "    </tr>\n",
       "    <tr>\n",
       "      <th>4997</th>\n",
       "      <td>2023-02-24 23:50:00</td>\n",
       "      <td>0.00927</td>\n",
       "      <td>0.00928</td>\n",
       "      <td>0.00927</td>\n",
       "      <td>0.00928</td>\n",
       "    </tr>\n",
       "    <tr>\n",
       "      <th>4998</th>\n",
       "      <td>2023-02-24 23:55:00</td>\n",
       "      <td>0.00928</td>\n",
       "      <td>0.00928</td>\n",
       "      <td>0.00927</td>\n",
       "      <td>0.00928</td>\n",
       "    </tr>\n",
       "    <tr>\n",
       "      <th>4999</th>\n",
       "      <td>2023-02-25 00:00:00</td>\n",
       "      <td>0.00928</td>\n",
       "      <td>0.00928</td>\n",
       "      <td>0.00927</td>\n",
       "      <td>0.00927</td>\n",
       "    </tr>\n",
       "  </tbody>\n",
       "</table>\n",
       "<p>5000 rows × 5 columns</p>\n",
       "</div>"
      ],
      "text/plain": [
       "                 datetime     open     high      low    close\n",
       "0     2023-02-07 12:45:00  0.00920  0.00921  0.00920  0.00921\n",
       "1     2023-02-07 12:50:00  0.00920  0.00920  0.00920  0.00920\n",
       "2     2023-02-07 12:55:00  0.00921  0.00921  0.00921  0.00921\n",
       "3     2023-02-07 13:00:00  0.00921  0.00921  0.00921  0.00921\n",
       "4     2023-02-07 13:05:00  0.00921  0.00921  0.00920  0.00920\n",
       "...                   ...      ...      ...      ...      ...\n",
       "4995  2023-02-24 23:40:00  0.00927  0.00927  0.00927  0.00927\n",
       "4996  2023-02-24 23:45:00  0.00926  0.00928  0.00926  0.00928\n",
       "4997  2023-02-24 23:50:00  0.00927  0.00928  0.00927  0.00928\n",
       "4998  2023-02-24 23:55:00  0.00928  0.00928  0.00927  0.00928\n",
       "4999  2023-02-25 00:00:00  0.00928  0.00928  0.00927  0.00927\n",
       "\n",
       "[5000 rows x 5 columns]"
      ]
     },
     "execution_count": 13,
     "metadata": {},
     "output_type": "execute_result"
    }
   ],
   "source": [
    "test_start='2023-02-22 00:00:00'\n",
    "test_end='2023-02-25 00:00:00'\n",
    "\n",
    "test_api_url=f'https://api.twelvedata.com/time_series?symbol={symbel}&start_data={test_start}&end_date={test_end}&interval={interval}&order={order}&apikey={api_key}'\n",
    "test_data = requests.get(test_api_url).json()\n",
    "test_data_final = pd.DataFrame(test_data['values'])\n",
    "test_data_final"
   ]
  },
  {
   "cell_type": "code",
   "execution_count": 14,
   "id": "2c180a2e",
   "metadata": {},
   "outputs": [
    {
     "data": {
      "text/plain": [
       "0       0.00921\n",
       "1       0.00920\n",
       "2       0.00921\n",
       "3       0.00921\n",
       "4       0.00920\n",
       "         ...   \n",
       "4995    0.00927\n",
       "4996    0.00928\n",
       "4997    0.00928\n",
       "4998    0.00928\n",
       "4999    0.00927\n",
       "Name: close, Length: 5000, dtype: object"
      ]
     },
     "execution_count": 14,
     "metadata": {},
     "output_type": "execute_result"
    }
   ],
   "source": [
    "test_data_final['close']"
   ]
  },
  {
   "cell_type": "code",
   "execution_count": 15,
   "id": "97ec2cbf",
   "metadata": {},
   "outputs": [
    {
     "data": {
      "text/plain": [
       "0       0.00921\n",
       "1       0.00920\n",
       "2       0.00921\n",
       "3       0.00921\n",
       "4       0.00920\n",
       "         ...   \n",
       "4995    0.00927\n",
       "4996    0.00928\n",
       "4997    0.00928\n",
       "4998    0.00928\n",
       "4999    0.00927\n",
       "Name: close, Length: 5000, dtype: float64"
      ]
     },
     "execution_count": 15,
     "metadata": {},
     "output_type": "execute_result"
    }
   ],
   "source": [
    "pd.to_numeric (test_data_final['close'],errors='coerce')"
   ]
  },
  {
   "cell_type": "code",
   "execution_count": 16,
   "id": "214f0938",
   "metadata": {},
   "outputs": [],
   "source": [
    "bitcoin_prices = pd.to_numeric (test_data_final['close'],errors='coerce').values\n",
    "\n",
    "test_inputs =  test_data_final['close'].values\n",
    "test_inputs = test_inputs.reshape(-1,1)\n",
    "model_inputs = scaler.fit_transform(test_inputs)"
   ]
  },
  {
   "cell_type": "code",
   "execution_count": 17,
   "id": "df10cd10",
   "metadata": {},
   "outputs": [],
   "source": [
    "x_test = []\n",
    "\n",
    "for x in range(time_intervals_to_train,len(model_inputs)):\n",
    "  x_test.append(model_inputs[x - time_intervals_to_train:x, 0])\n",
    "\n",
    "x_test = np.array(x_test)\n",
    "x_test = np.reshape(x_test,(x_test.shape[0],x_test.shape[1],1))"
   ]
  },
  {
   "cell_type": "code",
   "execution_count": 18,
   "id": "82818d08",
   "metadata": {},
   "outputs": [
    {
     "data": {
      "text/plain": [
       "(4976, 24, 1)"
      ]
     },
     "execution_count": 18,
     "metadata": {},
     "output_type": "execute_result"
    }
   ],
   "source": [
    "x_test.shape"
   ]
  },
  {
   "cell_type": "code",
   "execution_count": 19,
   "id": "f54a9326",
   "metadata": {},
   "outputs": [
    {
     "name": "stdout",
     "output_type": "stream",
     "text": [
      "156/156 [==============================] - 8s 39ms/step\n"
     ]
    }
   ],
   "source": [
    "prediction_prices = model.predict(x_test)\n",
    "prediction_prices = scaler.inverse_transform(prediction_prices)"
   ]
  },
  {
   "cell_type": "code",
   "execution_count": 20,
   "id": "1f7c8862",
   "metadata": {},
   "outputs": [
    {
     "data": {
      "text/plain": [
       "<function matplotlib.pyplot.show(close=None, block=None)>"
      ]
     },
     "execution_count": 20,
     "metadata": {},
     "output_type": "execute_result"
    },
    {
     "data": {
      "image/png": "[encoded data removed]",
      "text/plain": [
       "<Figure size 720x360 with 1 Axes>"
      ]
     },
     "metadata": {
      "needs_background": "light"
     },
     "output_type": "display_data"
    }
   ],
   "source": [
    "plt.figure(figsize=(10,5))\n",
    "plt.plot(bitcoin_prices, label = 'Bitcoin Prices')\n",
    "plt.plot(prediction_prices, label='Predicted prices')\n",
    "plt.title('Predicting Bitcoin Price')\n",
    "plt.xlabel('5min time interval')\n",
    "plt.ylabel('Price')\n",
    "plt.legend()\n",
    "plt.show"
   ]
  },
  {
   "cell_type": "markdown",
   "id": "a3e89cd8",
   "metadata": {},
   "source": [
    "In the observation of the above graph we come to know that the **predicted value and actual value are almost closer**, So we conclude that the model has a good accuracy.\n",
    "\n",
    "Lets predit what whould be price after 5 min"
   ]
  },
  {
   "cell_type": "code",
   "execution_count": 21,
   "id": "7bebc9a1",
   "metadata": {},
   "outputs": [],
   "source": [
    "last_data = model_inputs[len(model_inputs)+1 - time_intervals_to_train : len(model_inputs)+1,0]\n",
    "last_data = np.array(last_data)"
   ]
  },
  {
   "cell_type": "code",
   "execution_count": 22,
   "id": "c080f8aa",
   "metadata": {},
   "outputs": [
    {
     "data": {
      "text/plain": [
       "(23,)"
      ]
     },
     "execution_count": 22,
     "metadata": {},
     "output_type": "execute_result"
    }
   ],
   "source": [
    "last_data.shape"
   ]
  },
  {
   "cell_type": "code",
   "execution_count": 23,
   "id": "5e8de0cc",
   "metadata": {},
   "outputs": [],
   "source": [
    "last_data = np.reshape(last_data, (1, last_data.shape[0], 1))"
   ]
  },
  {
   "cell_type": "code",
   "execution_count": 24,
   "id": "fcc8ad41",
   "metadata": {},
   "outputs": [
    {
     "name": "stdout",
     "output_type": "stream",
     "text": [
      "1/1 [==============================] - 1s 1s/step\n"
     ]
    }
   ],
   "source": [
    "prediction = model.predict(last_data)"
   ]
  },
  {
   "cell_type": "code",
   "execution_count": 25,
   "id": "f50908b8",
   "metadata": {},
   "outputs": [],
   "source": [
    "prediction = scaler.inverse_transform(prediction)"
   ]
  },
  {
   "cell_type": "code",
   "execution_count": 26,
   "id": "fd910477",
   "metadata": {},
   "outputs": [
    {
     "data": {
      "text/plain": [
       "array([[0.00925819]], dtype=float32)"
      ]
     },
     "execution_count": 26,
     "metadata": {},
     "output_type": "execute_result"
    }
   ],
   "source": [
    "prediction"
   ]
  },
  {
   "cell_type": "markdown",
   "id": "2a9cfd73",
   "metadata": {},
   "source": [
    "We come to know that price of the bitcoin price after 5 min"
   ]
  },
  {
   "cell_type": "code",
   "execution_count": null,
   "id": "69ec20bc",
   "metadata": {},
   "outputs": [],
   "source": []
  },
  {
   "cell_type": "code",
   "execution_count": null,
   "id": "033a0bcf",
   "metadata": {},
   "outputs": [],
   "source": []
  }
 ],
 "metadata": {
  "kernelspec": {
   "display_name": "Python 3 (ipykernel)",
   "language": "python",
   "name": "python3"
  },
  "language_info": {
   "codemirror_mode": {
    "name": "ipython",
    "version": 3
   },
   "file_extension": ".py",
   "mimetype": "text/x-python",
   "name": "python",
   "nbconvert_exporter": "python",
   "pygments_lexer": "ipython3",
   "version": "3.9.12"
  }
 },
 "nbformat": 4,
 "nbformat_minor": 5
}
